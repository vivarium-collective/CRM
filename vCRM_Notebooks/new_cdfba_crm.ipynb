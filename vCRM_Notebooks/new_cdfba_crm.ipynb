{
 "cells": [
  {
   "cell_type": "code",
   "execution_count": 1,
   "id": "initial_id",
   "metadata": {
    "collapsed": true,
    "ExecuteTime": {
     "end_time": "2025-09-22T19:12:40.363878Z",
     "start_time": "2025-09-22T19:12:38.904119Z"
    }
   },
   "outputs": [],
   "source": [
    "from process_bigraph import ProcessTypes, Composite\n",
    "from cdFBA import register_types, register_processes\n",
    "from cdFBA.utils import get_substrates, get_reaction_map, model_from_file, get_exchanges\n",
    "from process_bigraph.emitter import gather_emitter_results\n",
    "from cobra.io import load_model, read_sbml_model\n",
    "from cobra.medium import minimal_medium\n",
    "from vivaCRM.crm_gsmm_golford import (\n",
    "    get_crm_goldford_emitter, \n",
    "    plot_crm_goldford_simulation)\n",
    "from vivaCRM.crm_cdfba_utils import initial_environment, env_to_mcrm_state\n",
    "from CRM.crm_gsmm_goldford_utils import ( \n",
    "    extract_yields, \n",
    "    extract_byproducts, \n",
    "    extract_uptake_rates, \n",
    "    run_mcrm_from_extractions, \n",
    "    plot_mcrm, \n",
    "    build_crm_goldford_config, \n",
    "    make_initial_state, \n",
    "    extract_yields_agora,\n",
    "    extract_byproducts_agora,\n",
    "    extract_uptake_rates_agora)\n",
    "from vivaCRM.new_crm_gsmm_golford import build_params, MCRM_Process"
   ]
  },
  {
   "cell_type": "code",
   "execution_count": 2,
   "outputs": [],
   "source": [
    "def get_reaction_map(model_file=\"textbook\", exchanges=None):\n",
    "    \"\"\"Returns a reaction_name_map dictionary from a medium dictionary as obtained\n",
    "    from model.medium or cobra.medium.minimum_medium()\n",
    "    Parameters:\n",
    "        model_file : str, file path or BiGG Model ID\n",
    "        exchanges : lst, list of names of substrates required by the model organism\n",
    "    Returns:\n",
    "        reaction_name_map : dict, maps substrate names to reactions\n",
    "    \"\"\"\n",
    "    if isinstance(model_file, str):\n",
    "        model = model_from_file(model_file)\n",
    "    else:\n",
    "        model = model_file\n",
    "    if exchanges is None:\n",
    "        exchanges = get_exchanges(model)\n",
    "    reaction_map = {\n",
    "        list(getattr(model.reactions, i).metabolites.keys())[0].name: i\n",
    "        for i in exchanges if hasattr(model.reactions, i)\n",
    "    }\n",
    "    # substrates = get_substrates(model, exchanges)\n",
    "    # ids = exchanges\n",
    "    # reaction_name_map = {}\n",
    "    # for i in range(len(substrates)):\n",
    "    #     reaction_name_map[substrates[i]] = ids[i]\n",
    "    return reaction_map"
   ],
   "metadata": {
    "collapsed": false,
    "ExecuteTime": {
     "end_time": "2025-09-22T19:12:40.369960Z",
     "start_time": "2025-09-22T19:12:40.365688Z"
    }
   },
   "id": "3061c2bf4a9d5a26"
  },
  {
   "cell_type": "code",
   "execution_count": 3,
   "outputs": [],
   "source": [
    "gut_models = {\n",
    "    \"B_thetaiotaomicron\": \"/Users/edwin/Downloads/reconstructions/sbml/Bacteroides_thetaiotaomicron_VPI_5482.xml\",\n",
    "    \"E_rectale\": \"/Users/edwin/Downloads/reconstructions/GSMM/Eubacterium_rectale_ATCC_33656.xml\",\n",
    "    \"Methanobrevibacter_smithii\": \"/Users/edwin/Downloads/reconstructions/sbml/Methanobrevibacter_smithii_ATCC_35061.xml\",\n",
    "}\n",
    "models = {k: read_sbml_model(v) for k, v in gut_models.items()}"
   ],
   "metadata": {
    "collapsed": false,
    "ExecuteTime": {
     "end_time": "2025-09-22T19:12:42.448152Z",
     "start_time": "2025-09-22T19:12:40.367860Z"
    }
   },
   "id": "faf08c12705335f6"
  },
  {
   "cell_type": "code",
   "execution_count": 4,
   "outputs": [],
   "source": [
    "BT = models[\"B_thetaiotaomicron\"]\n",
    "ER = models[\"E_rectale\"]\n",
    "MS = models[\"Methanobrevibacter_smithii\"]"
   ],
   "metadata": {
    "collapsed": false,
    "ExecuteTime": {
     "end_time": "2025-09-22T19:12:42.450378Z",
     "start_time": "2025-09-22T19:12:42.448550Z"
    }
   },
   "id": "458665fce8eaae50"
  },
  {
   "cell_type": "code",
   "execution_count": 4,
   "outputs": [],
   "source": [],
   "metadata": {
    "collapsed": false,
    "ExecuteTime": {
     "end_time": "2025-09-22T19:12:42.451988Z",
     "start_time": "2025-09-22T19:12:42.450249Z"
    }
   },
   "id": "e63427cf98da5d20"
  },
  {
   "cell_type": "code",
   "execution_count": 5,
   "outputs": [],
   "source": [
    "species_names  = [\"B_thetaiotaomicron\", \"E_rectale\"]\n",
    "resource_names = [\"EX_hspg(e)\", \"EX_ac(e)\", \"EX_but(e)\"]  "
   ],
   "metadata": {
    "collapsed": false,
    "ExecuteTime": {
     "end_time": "2025-09-22T19:12:42.453479Z",
     "start_time": "2025-09-22T19:12:42.451581Z"
    }
   },
   "id": "e408337f8d35af3"
  },
  {
   "cell_type": "code",
   "execution_count": 6,
   "outputs": [],
   "source": [
    "def get_all_substrates(models, exchanges):\n",
    "    resource_names = []\n",
    "    for model in models:\n",
    "        resource_names.extend(get_substrates(model, exchanges)) \n",
    "    resource_names = list(set(resource_names))\n",
    "    return resource_names"
   ],
   "metadata": {
    "collapsed": false,
    "ExecuteTime": {
     "end_time": "2025-09-22T19:12:42.458827Z",
     "start_time": "2025-09-22T19:12:42.454253Z"
    }
   },
   "id": "5af98b340924e29c"
  },
  {
   "cell_type": "code",
   "execution_count": 7,
   "outputs": [],
   "source": [
    "def get_all_reaction_map(models, exchanges):\n",
    "    reaction_map = {}\n",
    "    for model in models:\n",
    "        reaction_map.update(get_reaction_map(model, exchanges))\n",
    "    return reaction_map"
   ],
   "metadata": {
    "collapsed": false,
    "ExecuteTime": {
     "end_time": "2025-09-22T19:12:42.458909Z",
     "start_time": "2025-09-22T19:12:42.456518Z"
    }
   },
   "id": "d31cbcf7eb554b1d"
  },
  {
   "cell_type": "code",
   "execution_count": 8,
   "outputs": [],
   "source": [
    "substrate_names = get_all_substrates([BT, ER], resource_names)"
   ],
   "metadata": {
    "collapsed": false,
    "ExecuteTime": {
     "end_time": "2025-09-22T19:12:42.461085Z",
     "start_time": "2025-09-22T19:12:42.458391Z"
    }
   },
   "id": "db319036df9354d"
  },
  {
   "cell_type": "code",
   "execution_count": 9,
   "outputs": [],
   "source": [
    "reaction_map = get_all_reaction_map([BT, ER], resource_names)"
   ],
   "metadata": {
    "collapsed": false,
    "ExecuteTime": {
     "end_time": "2025-09-22T19:12:42.462560Z",
     "start_time": "2025-09-22T19:12:42.461249Z"
    }
   },
   "id": "73cd571138e556ac"
  },
  {
   "cell_type": "code",
   "execution_count": 10,
   "outputs": [
    {
     "data": {
      "text/plain": "['EX_hspg(e)', 'EX_ac(e)', 'EX_but(e)']"
     },
     "execution_count": 10,
     "metadata": {},
     "output_type": "execute_result"
    }
   ],
   "source": [
    "resource_names"
   ],
   "metadata": {
    "collapsed": false,
    "ExecuteTime": {
     "end_time": "2025-09-22T19:12:42.467126Z",
     "start_time": "2025-09-22T19:12:42.463710Z"
    }
   },
   "id": "4efaac912b7d2124"
  },
  {
   "cell_type": "code",
   "execution_count": 11,
   "outputs": [
    {
     "data": {
      "text/plain": "{'heparan sulfate proteoglycan': 'EX_hspg(e)',\n 'acetate': 'EX_ac(e)',\n 'butyrate': 'EX_but(e)'}"
     },
     "execution_count": 11,
     "metadata": {},
     "output_type": "execute_result"
    }
   ],
   "source": [
    "reaction_map"
   ],
   "metadata": {
    "collapsed": false,
    "ExecuteTime": {
     "end_time": "2025-09-22T19:12:42.895245Z",
     "start_time": "2025-09-22T19:12:42.887135Z"
    }
   },
   "id": "4bb5a4847b653f7a"
  },
  {
   "cell_type": "code",
   "execution_count": 12,
   "outputs": [
    {
     "name": "stdout",
     "output_type": "stream",
     "text": [
      "104.30368212805854\n",
      "104.30368212805875\n",
      "56.52570685447269\n",
      "56.52570685447261\n"
     ]
    }
   ],
   "source": [
    "models = {\n",
    "    \"B_thetaiotaomicron\": BT,\n",
    "    \"E_rectale\": ER,\n",
    "}\n",
    "biomass_id = {\n",
    "    \"B_thetaiotaomicron\": \"EX_biomass(e)\",   # set to the exact biomass rxn id in your model\n",
    "    \"E_rectale\": \"EX_biomass(e)\",\n",
    "}\n",
    "\n",
    "# --- 1) Exchanges to track (use YOUR IDs exactly) ---\n",
    "resource_ids = [values for values in reaction_map.values()]\n",
    "\n",
    "# --- 2) Extract yields, uptakes, byproducts for each species under a unified medium ---\n",
    "extractions = {\n",
    "    \"B_thetaiotaomicron\": {\n",
    "        \"yields\":     extract_yields_agora(models[\"B_thetaiotaomicron\"], resource_ids,\n",
    "                                           biomass_rxn_id=biomass_id[\"B_thetaiotaomicron\"],\n",
    "                                           use_pfba=False),\n",
    "        \"byproducts\": extract_byproducts_agora(models[\"B_thetaiotaomicron\"], resource_ids,\n",
    "                                               biomass_rxn_id=biomass_id[\"B_thetaiotaomicron\"],\n",
    "                                               use_pfba=False),\n",
    "        \"uptakes\":    extract_uptake_rates_agora(models[\"B_thetaiotaomicron\"], resource_ids,\n",
    "                                                 biomass_rxn_id=biomass_id[\"B_thetaiotaomicron\"],\n",
    "                                                 use_pfba=False),\n",
    "    },\n",
    "    \"E_rectale\": {\n",
    "        \"yields\":     extract_yields_agora(models[\"E_rectale\"], resource_ids,\n",
    "                                           biomass_rxn_id=biomass_id[\"E_rectale\"],\n",
    "                                           use_pfba=False),\n",
    "        \"byproducts\": extract_byproducts_agora(models[\"E_rectale\"], resource_ids,\n",
    "                                               biomass_rxn_id=biomass_id[\"E_rectale\"],\n",
    "                                               use_pfba=False),\n",
    "        \"uptakes\":    extract_uptake_rates_agora(models[\"E_rectale\"], resource_ids,\n",
    "                                                 biomass_rxn_id=biomass_id[\"E_rectale\"],\n",
    "                                                 use_pfba=False),\n",
    "    }\n",
    "}\n",
    "\n",
    "# --- 3) Monod Km per resource (tune later) ---\n",
    "Km = {values: 0.5 for values in reaction_map.values()}\n",
    "\n",
    "# --- 4) Build CRM config (Goldford-style) ---\n",
    "cfg = build_crm_goldford_config(\n",
    "    extractions,\n",
    "    resource_ids,\n",
    "    Km,\n",
    "    maintenance_by_species={\"B_thetaiotaomicron\": 0.2, \"E_rectale\": 0.2},\n",
    "    dilution=0.0,\n",
    "    feed_by_resource={},              # e.g., set EX_hspg(e) here if you run as chemostat (dilution>0)\n",
    "    resource_loss_by_resource={},     # optional abiotic loss rates per resource\n",
    ")\n",
    "\n",
    "# --- 5) Initial state: HSPG present; acetate/butyrate start at 0 ---\n",
    "state0 = make_initial_state(\n",
    "    [\"B_thetaiotaomicron\", \"E_rectale\"],\n",
    "    resource_ids,\n",
    "    n0_by_species={\"B_thetaiotaomicron\": 0.1, \"E_rectale\": 0.1},\n",
    "    R0_by_resource={\"EX_hspg(e)\": 20.0, \"EX_ac(e)\": 0.0, \"EX_but(e)\": 0.0}\n",
    ")"
   ],
   "metadata": {
    "collapsed": false,
    "ExecuteTime": {
     "end_time": "2025-09-22T19:12:44.090274Z",
     "start_time": "2025-09-22T19:12:43.425199Z"
    }
   },
   "id": "8672daa9ff06ef07"
  },
  {
   "cell_type": "code",
   "execution_count": 13,
   "outputs": [],
   "source": [
    "# build params\n",
    "params = build_params(\n",
    "    cfg['species_names'], cfg['resource_names'],\n",
    "    yields_map=cfg['yields'],\n",
    "    vmax_map=cfg['resource_uptakes'],\n",
    "    maintenance_map=cfg['maintenance'],\n",
    "    Km_map=cfg['Km'],\n",
    "    byproducts_map=cfg['byproducts'],\n",
    "    dilution=cfg['dilution'],\n",
    "    feed_map=cfg['feed'],\n",
    "    resource_loss_map=cfg['resource_loss'],\n",
    ")"
   ],
   "metadata": {
    "collapsed": false,
    "ExecuteTime": {
     "end_time": "2025-09-22T19:12:44.095064Z",
     "start_time": "2025-09-22T19:12:44.091923Z"
    }
   },
   "id": "9974173ecbe345a0"
  },
  {
   "cell_type": "code",
   "execution_count": 34,
   "outputs": [],
   "source": [
    "adaptive_spec = {\n",
    "    \"adaptive_crm\": {\n",
    "        \"_type\": \"process\",\n",
    "        \"address\": \"local:MCRM_Process\",\n",
    "        \"config\": {\n",
    "            \"species_names\": cfg[\"species_names\"],\n",
    "            \"resource_names\": cfg[\"resource_names\"],\n",
    "            \"params\": params,\n",
    "            \"method\": \"RK45\",\n",
    "            \"rtol\": 1e-5, \"atol\": 1e-7, \"max_step\": 0.05,\n",
    "            \"clip_nonnegative\": True,\n",
    "        },\n",
    "        \"inputs\": {\"shared_environment\": [\"Shared Environment\"]},\n",
    "        \"outputs\": {\"update\": [\"dFBA Results\", \"CRM\"]},\n",
    "        \"interval\": 0.5,\n",
    "    }\n",
    "}\n",
    "\n",
    "env = initial_environment(\n",
    "    volume=1.0,\n",
    "    species_list=species_names,\n",
    "    substrates=substrate_names,\n",
    "    # overrides are optional; here we pin substrates and species starts:\n",
    "    resource_overrides={\"heparan sulfate proteoglycan\": 20.0, \"acetate\": 0.0, \"butyrate\": 0.0},\n",
    "    biomass_overrides={\"B_thetaiotaomicron\": 0.1, \"E_rectale\": 0.1},\n",
    "    default_resource=0.0,   # anything not listed starts at 0\n",
    ")\n",
    "\n",
    "shared_environment = {\"Shared Environment\": env}\n",
    "\n",
    "update_env = {'update environment': {'_type': 'process',\n",
    "                        'address': 'local:UpdateEnvironment',\n",
    "                        'config': {},\n",
    "                        'inputs': {'shared_environment': ['Shared Environment'],\n",
    "                                   'species_updates': ['dFBA Results']},\n",
    "                        'outputs': {'counts': ['Shared Environment',\n",
    "                                               'counts']}}}\n"
   ],
   "metadata": {
    "collapsed": false,
    "ExecuteTime": {
     "end_time": "2025-09-22T19:26:51.422800Z",
     "start_time": "2025-09-22T19:26:51.419046Z"
    }
   },
   "id": "803e171ea454f9f1"
  },
  {
   "cell_type": "code",
   "execution_count": 34,
   "outputs": [],
   "source": [],
   "metadata": {
    "collapsed": false,
    "ExecuteTime": {
     "end_time": "2025-09-22T19:26:51.708727Z",
     "start_time": "2025-09-22T19:26:51.696860Z"
    }
   },
   "id": "cb926820adefc439"
  },
  {
   "cell_type": "code",
   "execution_count": 35,
   "outputs": [
    {
     "data": {
      "text/plain": "['butyrate', 'acetate', 'heparan sulfate proteoglycan']"
     },
     "execution_count": 35,
     "metadata": {},
     "output_type": "execute_result"
    }
   ],
   "source": [
    "substrate_names"
   ],
   "metadata": {
    "collapsed": false,
    "ExecuteTime": {
     "end_time": "2025-09-22T19:26:51.846730Z",
     "start_time": "2025-09-22T19:26:51.843883Z"
    }
   },
   "id": "34c5102b996d2c01"
  },
  {
   "cell_type": "code",
   "execution_count": 36,
   "outputs": [
    {
     "data": {
      "text/plain": "{'volume': 1.0,\n 'counts': {'butyrate': 0.0,\n  'acetate': 0.0,\n  'heparan sulfate proteoglycan': 20.0,\n  'B_thetaiotaomicron': 0.1,\n  'E_rectale': 0.1},\n 'concentrations': {'butyrate': 0.0,\n  'acetate': 0.0,\n  'heparan sulfate proteoglycan': 20.0,\n  'B_thetaiotaomicron': 0.1,\n  'E_rectale': 0.1}}"
     },
     "execution_count": 36,
     "metadata": {},
     "output_type": "execute_result"
    }
   ],
   "source": [
    "env"
   ],
   "metadata": {
    "collapsed": false,
    "ExecuteTime": {
     "end_time": "2025-09-22T19:26:52.031187Z",
     "start_time": "2025-09-22T19:26:52.028617Z"
    }
   },
   "id": "b6c7cd69a04ab535"
  },
  {
   "cell_type": "code",
   "execution_count": 37,
   "outputs": [],
   "source": [
    "spec = {**adaptive_spec, **shared_environment}\n",
    "combined_names = []\n",
    "combined_names.extend(substrate_names)\n",
    "combined_names.extend(species_names)\n",
    "crm_update = {\n",
    "    name: 0 for name in combined_names\n",
    "}\n",
    "dfba_update = {\n",
    "    \"CRM\": crm_update\n",
    "}\n",
    "spec.update(\n",
    "    {\n",
    "        \"dFBA Results\": dfba_update\n",
    "    }\n",
    ")\n",
    "state_keys = [\"Shared Environment\", \"global_time\"]\n",
    "spec[\"emitter\"] = get_crm_goldford_emitter(state_keys)"
   ],
   "metadata": {
    "collapsed": false,
    "ExecuteTime": {
     "end_time": "2025-09-22T19:26:53.807388Z",
     "start_time": "2025-09-22T19:26:53.797406Z"
    }
   },
   "id": "623c35998aa586cf"
  },
  {
   "cell_type": "code",
   "execution_count": 40,
   "outputs": [],
   "source": [
    "spec.update(update_env)"
   ],
   "metadata": {
    "collapsed": false,
    "ExecuteTime": {
     "end_time": "2025-09-22T19:27:06.195819Z",
     "start_time": "2025-09-22T19:27:06.183880Z"
    }
   },
   "id": "c69fbad55d24c318"
  },
  {
   "cell_type": "code",
   "execution_count": 41,
   "outputs": [
    {
     "data": {
      "text/plain": "{'adaptive_crm': {'_type': 'process',\n  'address': 'local:MCRM_Process',\n  'config': {'species_names': ['B_thetaiotaomicron', 'E_rectale'],\n   'resource_names': ['EX_hspg(e)', 'EX_ac(e)', 'EX_but(e)'],\n   'params': MCRMParams(yields=array([[0., 0., 0.],\n          [0., 0., 0.]]), vmax=array([[0., 0., 0.],\n          [0., 0., 0.]]), B=array([[[0., 0., 0.],\n           [0., 0., 0.],\n           [0., 0., 0.]],\n   \n          [[0., 0., 0.],\n           [0., 0., 0.],\n           [0., 0., 0.]]]), Km=array([0.5, 0.5, 0.5]), maintenance=array([0.2, 0.2]), dilution=0.0, feed=None, resource_loss=array([0., 0., 0.])),\n   'method': 'RK45',\n   'rtol': 1e-05,\n   'atol': 1e-07,\n   'max_step': 0.05,\n   'clip_nonnegative': True},\n  'inputs': {'shared_environment': ['Shared Environment']},\n  'outputs': {'update': ['dFBA Results', 'CRM']},\n  'interval': 0.5},\n 'Shared Environment': {'volume': 1.0,\n  'counts': {'butyrate': 0.0,\n   'acetate': 0.0,\n   'heparan sulfate proteoglycan': 20.0,\n   'B_thetaiotaomicron': 0.1,\n   'E_rectale': 0.1},\n  'concentrations': {'butyrate': 0.0,\n   'acetate': 0.0,\n   'heparan sulfate proteoglycan': 20.0,\n   'B_thetaiotaomicron': 0.1,\n   'E_rectale': 0.1}},\n 'dFBA Results': {'CRM': {'butyrate': 0,\n   'acetate': 0,\n   'heparan sulfate proteoglycan': 0,\n   'B_thetaiotaomicron': 0,\n   'E_rectale': 0}},\n 'emitter': {'_type': 'step',\n  'address': 'local:ram-emitter',\n  'config': {'emit': {'global_time': 'any', 'Shared Environment': 'any'}},\n  'inputs': {'global_time': ['global_time'],\n   'Shared Environment': ['Shared Environment']}},\n 'update environment': {'_type': 'process',\n  'address': 'local:UpdateEnvironment',\n  'config': {},\n  'inputs': {'shared_environment': ['Shared Environment'],\n   'species_updates': ['dFBA Results']},\n  'outputs': {'counts': ['Shared Environment', 'counts']}}}"
     },
     "execution_count": 41,
     "metadata": {},
     "output_type": "execute_result"
    }
   ],
   "source": [
    "spec"
   ],
   "metadata": {
    "collapsed": false,
    "ExecuteTime": {
     "end_time": "2025-09-22T19:27:14.061839Z",
     "start_time": "2025-09-22T19:27:14.049360Z"
    }
   },
   "id": "dd2150e87bda3d37"
  },
  {
   "cell_type": "code",
   "execution_count": 42,
   "outputs": [
    {
     "data": {
      "text/plain": "['B_thetaiotaomicron', 'E_rectale']"
     },
     "execution_count": 42,
     "metadata": {},
     "output_type": "execute_result"
    }
   ],
   "source": [
    "species_names"
   ],
   "metadata": {
    "collapsed": false,
    "ExecuteTime": {
     "end_time": "2025-09-22T19:27:17.927127Z",
     "start_time": "2025-09-22T19:27:17.903738Z"
    }
   },
   "id": "4695518b4e1f6252"
  },
  {
   "cell_type": "code",
   "execution_count": 43,
   "outputs": [
    {
     "data": {
      "text/plain": "['butyrate',\n 'acetate',\n 'heparan sulfate proteoglycan',\n 'B_thetaiotaomicron',\n 'E_rectale']"
     },
     "execution_count": 43,
     "metadata": {},
     "output_type": "execute_result"
    }
   ],
   "source": [
    "combined_names"
   ],
   "metadata": {
    "collapsed": false,
    "ExecuteTime": {
     "end_time": "2025-09-22T19:27:18.125796Z",
     "start_time": "2025-09-22T19:27:18.122127Z"
    }
   },
   "id": "6a1766529327f77c"
  },
  {
   "cell_type": "code",
   "execution_count": 44,
   "outputs": [],
   "source": [
    "core = ProcessTypes()\n",
    "core = register_types(core)\n",
    "core.register_process(\"MCRM_Process\", MCRM_Process)\n",
    "sim = Composite({\"state\": spec}, core=core)"
   ],
   "metadata": {
    "collapsed": false,
    "ExecuteTime": {
     "end_time": "2025-09-22T19:27:18.346909Z",
     "start_time": "2025-09-22T19:27:18.322390Z"
    }
   },
   "id": "fb8b4c9395c814ba"
  },
  {
   "cell_type": "code",
   "execution_count": 45,
   "outputs": [],
   "source": [
    "sim.run(10)"
   ],
   "metadata": {
    "collapsed": false,
    "ExecuteTime": {
     "end_time": "2025-09-22T19:27:19.071088Z",
     "start_time": "2025-09-22T19:27:19.047049Z"
    }
   },
   "id": "c9ede3d8a52c8f5"
  },
  {
   "cell_type": "code",
   "execution_count": 46,
   "outputs": [],
   "source": [
    "results = gather_emitter_results(sim)[('emitter',)]\n"
   ],
   "metadata": {
    "collapsed": false,
    "ExecuteTime": {
     "end_time": "2025-09-22T19:27:19.584340Z",
     "start_time": "2025-09-22T19:27:19.578558Z"
    }
   },
   "id": "b87605d8527b7467"
  },
  {
   "cell_type": "code",
   "execution_count": 47,
   "outputs": [
    {
     "data": {
      "text/plain": "[{'global_time': 0.0,\n  'Shared Environment': {'concentrations': {'butyrate': 0.0,\n    'acetate': 0.0,\n    'heparan sulfate proteoglycan': 20.0,\n    'B_thetaiotaomicron': 0.1,\n    'E_rectale': 0.1},\n   'counts': {'butyrate': 0.0,\n    'acetate': 0.0,\n    'heparan sulfate proteoglycan': 20.0,\n    'B_thetaiotaomicron': 0.1,\n    'E_rectale': 0.1},\n   'volume': 1.0}}]"
     },
     "execution_count": 47,
     "metadata": {},
     "output_type": "execute_result"
    }
   ],
   "source": [
    "results"
   ],
   "metadata": {
    "collapsed": false,
    "ExecuteTime": {
     "end_time": "2025-09-22T19:27:19.656090Z",
     "start_time": "2025-09-22T19:27:19.653689Z"
    }
   },
   "id": "248787ca77ceed35"
  },
  {
   "cell_type": "code",
   "execution_count": 48,
   "outputs": [
    {
     "data": {
      "text/plain": "<Figure size 800x700 with 2 Axes>",
      "image/png": "[encoded data removed]"
     },
     "metadata": {},
     "output_type": "display_data"
    }
   ],
   "source": [
    "plot_crm_goldford_simulation(results)"
   ],
   "metadata": {
    "collapsed": false,
    "ExecuteTime": {
     "end_time": "2025-09-22T19:27:19.919270Z",
     "start_time": "2025-09-22T19:27:19.855659Z"
    }
   },
   "id": "929c24dc31b2b269"
  },
  {
   "cell_type": "code",
   "execution_count": null,
   "outputs": [],
   "source": [],
   "metadata": {
    "collapsed": false
   },
   "id": "437997f64a29e74b"
  }
 ],
 "metadata": {
  "kernelspec": {
   "display_name": "Python 3",
   "language": "python",
   "name": "python3"
  },
  "language_info": {
   "codemirror_mode": {
    "name": "ipython",
    "version": 2
   },
   "file_extension": ".py",
   "mimetype": "text/x-python",
   "name": "python",
   "nbconvert_exporter": "python",
   "pygments_lexer": "ipython2",
   "version": "2.7.6"
  }
 },
 "nbformat": 4,
 "nbformat_minor": 5
}
